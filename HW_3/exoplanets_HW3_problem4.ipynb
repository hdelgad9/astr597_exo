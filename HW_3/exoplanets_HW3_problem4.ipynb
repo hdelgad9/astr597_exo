{
 "cells": [
  {
   "cell_type": "markdown",
   "metadata": {},
   "source": [
    "### Problem 4\n",
    "\n",
    "We now want to make a plot of the TTVs of GJ 876 c over 4 years. We will assume the orbits are edge-on with $i=90$, so that planet c would be seen to transit."
   ]
  },
  {
   "cell_type": "code",
   "execution_count": 18,
   "metadata": {},
   "outputs": [],
   "source": [
    "import numpy as np\n",
    "import math\n",
    "import time\n",
    "import tqdm\n",
    "import os\n",
    "from scipy.optimize import minimize\n",
    "import astropy.constants as const\n",
    "from astropy import units as u\n",
    "import rebound\n",
    "\n",
    "import matplotlib.pyplot as plt\n",
    "from matplotlib.gridspec import GridSpec\n",
    "from matplotlib import rc\n",
    "plt.style.use('classic')\n",
    "rc('font', **{'family': 'serif', 'serif': ['Computer Modern'], 'size':20})\n",
    "rc('text', usetex=True)\n",
    "rc('figure', facecolor='w')\n",
    "rc('xtick', labelsize=20)\n",
    "rc('ytick', labelsize=20)\n",
    "\n",
    "G = 6.674e-8"
   ]
  },
  {
   "cell_type": "code",
   "execution_count": 19,
   "metadata": {},
   "outputs": [],
   "source": [
    "def inclination_mass(inc, mp):\n",
    "    \n",
    "    return mp * np.sin(i)/np.sin(inc)"
   ]
  },
  {
   "cell_type": "code",
   "execution_count": 20,
   "metadata": {},
   "outputs": [],
   "source": [
    "# Stellar parameters\n",
    "mstar = .32 \n",
    "\n",
    "# Planet parameters [b, c, d, e]\n",
    "planets = 4\n",
    "# P = np.array([61.1166, 30.0881, 1.937780, 124.26])\n",
    "# a = np.array([0.208317, 0.129590, 0.02080665, 0.3343])\n",
    "# e = np.array([0.0324, 0.25591, 0.207, 0.055])\n",
    "# mass = np.array([2.2756, 0.7142, 0.021, 0.046]) * const.M_jup.value / const.M_sun.value\n",
    "# w = np.array([50.3, 48.76, 234, 239]) * math.pi/180\n",
    "# M = np.array([325.7, 294.59, 355, 335]) * math.pi/180\n",
    "# K = np.array([213.86, 88.72, 6.60, 3.42])\n",
    "i = 59 * 180 / np.pi\n",
    "\n",
    "# Planet parameters [d, c, b, e]\n",
    "P = np.array([1.937780, 30.0881, 61.1166, 124.26])\n",
    "a = np.array([0.02080665, 0.129590, 0.208317, 0.3343])\n",
    "e = np.array([0.207, 0.25591, 0.0324, 0.055])\n",
    "mass = np.array([0.021, 0.7142, 2.2756, 0.046]) * const.M_jup.value / const.M_sun.value\n",
    "w = np.array([234, 48.76, 50.3, 239]) * np.pi/180\n",
    "M = np.array([355, 294.59, 325.7, 335]) * np.pi/180\n",
    "K = np.array([6.60, 88.72, 213.86, 3.42])"
   ]
  },
  {
   "cell_type": "code",
   "execution_count": 22,
   "metadata": {},
   "outputs": [
    {
     "name": "stderr",
     "output_type": "stream",
     "text": [
      "/Users/samanthagilbert/anaconda2/lib/python2.7/site-packages/ipykernel_launcher.py:30: FutureWarning: `rcond` parameter will change to the default of machine precision times ``max(M, N)`` where M and N are the input matrix dimensions.\n",
      "To use the future default and silence this warning we advise to pass `rcond=None`, to keep using the old, explicitly pass `rcond=-1`.\n"
     ]
    }
   ],
   "source": [
    "sim = rebound.Simulation()\n",
    "\n",
    "sim.add(m=mstar)\n",
    "for k in range(planets):\n",
    "    sim.add(m=inclination_mass(np.pi/2, mass[k]), e=e[k], a=a[k], omega=w[k], M=M[k]) \n",
    "sim.move_to_com()\n",
    "\n",
    "N = 200  # Integrate over 4 transits for planet b\n",
    "transittimes = np.zeros(N)\n",
    "p = sim.particles\n",
    "\n",
    "j = 0 # Start the counter\n",
    "while j < N:\n",
    "    y_old = p[2].y - p[0].y  \n",
    "    t_old = sim.t\n",
    "    sim.integrate(sim.t+0.5) # check for transits every 0.5 time units. Note that 0.5 is shorter than one orbit\n",
    "    t_new = sim.t\n",
    "    if y_old*(p[2].y-p[0].y)<0. and p[2].x-p[0].x>0.:   # sign changed (y_old*y<0), planet in front of star (x>0)\n",
    "        while t_new-t_old>1e-7:   # bisect until prec of 1e-5 reached\n",
    "            if y_old*(p[2].y-p[0].y)<0.:\n",
    "                t_new = sim.t\n",
    "            else:\n",
    "                t_old = sim.t\n",
    "            sim.integrate( (t_new+t_old)/2.)\n",
    "        transittimes[j] = sim.t\n",
    "        j += 1\n",
    "        sim.integrate(sim.t+0.05)       # integrate 0.05 to be past the transit\n",
    "        \n",
    "A = np.vstack([np.ones(N), range(N)]).T\n",
    "c, m = np.linalg.lstsq(A, transittimes)[0]"
   ]
  },
  {
   "cell_type": "code",
   "execution_count": 23,
   "metadata": {},
   "outputs": [
    {
     "data": {
      "image/png": "[encoded data removed]",
      "text/plain": [
       "<Figure size 800x640 with 1 Axes>"
      ]
     },
     "metadata": {},
     "output_type": "display_data"
    }
   ],
   "source": [
    "fig = plt.figure(figsize=[10,8])\n",
    "ax = plt.axes()\n",
    "#ax.set_ylim([-1,1])\n",
    "ax.set_xlim([0,N])\n",
    "ax.set_xlabel(\"Transit Number\", fontsize='x-large')\n",
    "ax.set_ylabel(\"TTV [hrs]\", fontsize='x-large')\n",
    "plt.scatter(range(N), (transittimes-m*np.array(range(N))-c)*(24.*365./2./np.pi), s = 0.5);"
   ]
  },
  {
   "cell_type": "code",
   "execution_count": 24,
   "metadata": {},
   "outputs": [
    {
     "name": "stdout",
     "output_type": "stream",
     "text": [
      "[  10.68868324   15.45189815   19.69346589   24.43799009   30.69314377\n",
      "   37.9647038    43.7331356    48.4949824    53.26621991   59.05447866\n",
      "   66.85169575   74.14766483   79.94474459   85.24675229   91.05689005\n",
      "   98.87329775  107.19666548  114.03564576  119.86432301  126.20104409\n",
      "  135.0528473   143.90901648  150.75755001  157.11467996  164.48511795\n",
      "  174.35898501  183.23891355  190.10216973  196.98493397  205.37175782\n",
      "  215.76016048  224.14154814  231.01335621  237.88710388  246.77753\n",
      "  256.64728391  264.50918104  271.38140616  278.250041    286.62316133\n",
      "  296.49052987  304.34392612  310.68778474  317.03174641  324.3761196\n",
      "  333.72796708  342.07509186  348.412545    354.23332399  360.54701496\n",
      "  368.3597627   376.67059391  382.97740579  388.27139159  393.55505316\n",
      "  399.84576643  407.637262    414.92930535  420.20314103  424.97091849\n",
      "  430.24997863  436.00625913  443.27112777  449.52269473  454.26641927\n",
      "  458.50471044  463.26330807  468.50942383  474.74600797  480.97779567\n",
      "  486.22557703  490.45938747  494.69813991  498.91670712  504.14234398\n",
      "  510.36651933  516.0945852   520.83176283  525.07008772  529.30670286\n",
      "  533.51649335  538.72826724  544.95093114  550.1704981   554.38704066\n",
      "  558.62700284  562.86413588  567.59583107  573.31983351  579.54941453\n",
      "  584.78520539  589.01161872  593.25483186  597.48815712  602.73103939\n",
      "  608.96263909  615.20830925  620.46558205  625.2328      630.00373424\n",
      "  635.26347819  642.02314131  648.78506876  654.56247553  659.85647474\n",
      "  665.15609044  671.4568583   679.24776027  686.55019861  692.34594251\n",
      "  697.64503744  703.46341066  711.29682702  720.13065788  727.47552864\n",
      "  733.82592273  740.17961003  748.03192995  757.38350212  765.24182458\n",
      "  771.58683255  777.94190173  785.81263883  795.68287292  804.04811297\n",
      "  810.91482544  817.7949986   825.67121181  836.06230229  844.94466598\n",
      "  851.8131142   858.69050877  866.56450529  876.43676587  885.31650261\n",
      "  892.18974584  899.06601151  906.93046126  916.79860865  924.64332176\n",
      "  930.99053422  937.336735    944.67856485  954.02553716  961.85954831\n",
      "  967.67610037  973.49677153  980.32337538  988.63771623  996.44951923\n",
      " 1002.25586465 1007.55281632 1013.34810699 1020.12538716 1027.90976701\n",
      " 1033.67951405 1038.44381    1043.20951686 1048.46882909 1054.71577222\n",
      " 1061.46225604 1066.70249705 1071.46371771 1075.70341667 1080.44920204\n",
      " 1086.19098002 1092.41410949 1098.15193889 1102.36880612 1106.60817946\n",
      " 1110.84270892 1115.57115524 1121.29245771 1127.51840671 1132.75363765\n",
      " 1136.9807694  1140.69252922 1144.92394058 1149.6446743  1155.3591745\n",
      " 1161.0708994  1165.78389715 1170.00868434 1174.25040367 1178.4829307\n",
      " 1183.20428324 1189.43756135 1195.67602042 1200.92417538 1205.15542568\n",
      " 1209.39818314 1214.15275269 1219.90037531 1226.64706292 1232.91119758\n",
      " 1238.18208474 1242.95212277 1247.71844814 1253.48958969 1260.76103259]\n"
     ]
    }
   ],
   "source": [
    "print(transittimes[0:200])"
   ]
  },
  {
   "cell_type": "code",
   "execution_count": null,
   "metadata": {},
   "outputs": [],
   "source": []
  }
 ],
 "metadata": {
  "kernelspec": {
   "display_name": "Python 2",
   "language": "python",
   "name": "python2"
  },
  "language_info": {
   "codemirror_mode": {
    "name": "ipython",
    "version": 2
   },
   "file_extension": ".py",
   "mimetype": "text/x-python",
   "name": "python",
   "nbconvert_exporter": "python",
   "pygments_lexer": "ipython2",
   "version": "2.7.16"
  }
 },
 "nbformat": 4,
 "nbformat_minor": 2
}
